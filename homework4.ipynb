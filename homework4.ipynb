{
 "cells": [
  {
   "cell_type": "markdown",
   "metadata": {},
   "source": [
    "# Homework 4 - Concept Drift"
   ]
  },
  {
   "cell_type": "markdown",
   "metadata": {},
   "source": [
    "Load the SEA dataset (\"sea.csv\"). It has three features and one target column\n",
    "\n",
    "## Tasks\n",
    "1. Train a SVM classifier (gamma = 0.01) with the first 10000 samples of the stream. Subsequently, evaluate it on the remaining data instances. What performance do you achieve on the train and the test set?\n",
    "* Implement a Page Hinkley change detection on the datastream. Again use the first 10000 data instances for the first model training. Retraing the model when a change is detected. How many drifts do you detect in the data? Plot the score curve\n",
    "* Perform a grid search on the whole dataset with the following paramters:  <br /> <br />  **Page-Hinkley:** lambda = [0.01, 0.05, 0.1]  <br /> **SVM:** svm_gamma = [0.01, 0.1, 1]  <br /> <br /> Use the first 10000 samples for the initial training and then a batch-size of 1000 samples for iterative evaluation. Print the prediction accuracy for each parameter pair. What is the best parameter pair? *Hint: You have to implement GridSearch manually.*"
   ]
  },
  {
   "cell_type": "markdown",
   "metadata": {},
   "source": [
    "<i>**Please make sure:**\n",
    "\n",
    "- each cell (essential step) is commented on with a short sentence\n",
    "- new variables / fields are output in sufficient length (e.g., df.head (10))\n",
    "- each of the tasks is answered with a short written statement\n",
    "\n",
    "This makes the evaluation much easier and, thus, would help us a lot.</i>"
   ]
  },
  {
   "cell_type": "code",
   "execution_count": null,
   "metadata": {},
   "outputs": [],
   "source": []
  }
 ],
 "metadata": {
  "kernelspec": {
   "display_name": "Python 3",
   "language": "python",
   "name": "python3"
  },
  "language_info": {
   "codemirror_mode": {
    "name": "ipython",
    "version": 3
   },
   "file_extension": ".py",
   "mimetype": "text/x-python",
   "name": "python",
   "nbconvert_exporter": "python",
   "pygments_lexer": "ipython3",
   "version": "3.7.0"
  }
 },
 "nbformat": 4,
 "nbformat_minor": 2
}
